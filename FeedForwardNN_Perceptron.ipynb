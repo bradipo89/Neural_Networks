{
 "cells": [
  {
   "cell_type": "markdown",
   "metadata": {},
   "source": [
    "# Perceptron"
   ]
  },
  {
   "cell_type": "markdown",
   "metadata": {},
   "source": [
    "In this notebook we describe the very first model of feedforward Neural Network, the Perceptron. The structure of the notebook is then:\n",
    "\n",
    "- [Theoretical Analysis](#s1)\n",
    "    - [Algorithm](#s1.1)\n",
    "    - [Practical Tips](#s1.2)\n",
    "- [Implementation in Python](#s2)\n",
    "- [Mini-challenge](#s3)"
   ]
  },
  {
   "cell_type": "markdown",
   "metadata": {},
   "source": [
    "##  <a class=\"anchor\" id='s1'> Theoretical Analysis </a> "
   ]
  },
  {
   "cell_type": "markdown",
   "metadata": {},
   "source": [
    "In the context of machine learning, the __Perceptron__ is an algorithm for supervised learning of binary classifiers. We remind that a binary classifier is a function which can decide whether or not an input, represented by a vector of numbers, belongs to some specific class. It is a type of linear classifier, i.e. a classification algorithm that makes its predictions based on a linear predictor function combining a set of weights with the feature vector. In more geometrical terms, a linear classsifier is a model that is able to divide the two classes in the input vector space of features, with an hyperplane. \n",
    "\n",
    "In the context of Neural Network , the Perceptron is the simplest feedforward Neural Network and does not contain any hidden layer, which means it only consists of a single layer of output nodes. \n",
    "\n",
    "Historically, the very first step towards the perceptron, and in general towards the artificial neuron, was taken by Warren McCulloch and Walter Pitts in 1943 inspired by neurobiology, created a model known as McCulloch-Pitts Neuron. \n",
    "In the MP Neuron Model, all the inputs have the same weight while calculating the outcome and the bias parameter can only take fewer values i.e., the parameter space for finding the best parameter is limited.\n",
    "In 1958 Frank Rosenblatt proposed the Perceptron, a more generalized computational model than the McCulloch-Pitts Neuron. The important feature in the Rosenblatt proposed perceptron was the introduction of weights for the inputs.\n",
    "\n",
    "Thus, the basic artificial perceptron we are going to describe can be represented by"
   ]
  },
  {
   "cell_type": "markdown",
   "metadata": {},
   "source": [
    "<div>\n",
    "<img width=500 src='images/perc.png' /> \n",
    "</div>"
   ]
  },
  {
   "cell_type": "markdown",
   "metadata": {},
   "source": [
    "###  <a class=\"anchor\" id='s1.1'> Algorithm </a> "
   ]
  },
  {
   "cell_type": "markdown",
   "metadata": {},
   "source": [
    "As we already said the perceptron is the simplest type of feedforward neural network, i.e. a feedforward NN with no hidden layers or units. Thus, a perceptron has only an input layer and an output layer. In order to describe and define the neural net and its algrithm, we have define, beyond the number of layers and the type of net, the activation functions used and the loss function. Historically, the perceptron's output has been binary, meaning it outputs a value of $0$ or $1$. We therefore recall some definition in order to be more formal and clear:\n",
    "\n",
    "\\begin{align*}\n",
    "x_i&:\\quad\\text{$i$-th $(p+1)$-dimensional training input vector}\\,\\left(1,x_{1i},\\cdots, x_{pi}\\right)\\\\\n",
    "y_i&:\\quad\\text{$i$-th training output vector}\\\\\n",
    "w&:\\quad\\text{$(p+1)$-dimensional weight vector}\\,\\left(w_0,w_{1},\\cdots, w_{p}\\right)\\\\\n",
    "o_i&:\\quad\\text{perceptron $i$-th output value}\n",
    "\\end{align*}\n",
    "\n",
    "The activation function we will use is the binary step function, defined as\n",
    "\n",
    "\\begin{align*}\n",
    "H(z)=\\begin{cases} 0, &  z<0 \\\\ 1, & z\\geq 0\\end{cases}\n",
    "\\end{align*}\n",
    "\n",
    "More generally, a perceptron can use other activation functions, like the sigmoid or linear functions. The loss function we will use the cross entropy loss\n",
    "\n",
    "\\begin{align*}\n",
    "L(y_i,\\hat{y}_i)=-y_i\\log\\hat{y}_i-(1-y_i)\\log(1-\\hat{y}_i)\n",
    "\\end{align*}\n",
    "\n",
    "The learning algorithm is simple and it goes as follows. For each observation the perceptron take as input the input value $x_i$ and it weights them with $w_i$. Then it passes this scalar $z_i$ through the activation function $H(z_i)$ that produces the output $o_i$. Then we the perceptron outputs are compared to the desired output $y_i$ thanks to the loss function $L$. Once the cost function has been computed we have to find the optimal $w$ in order to minimize the risk function $\\mathcal{R}$. The step described so far can be summarized as\n",
    "\n",
    "0. Randomly inizialize $w$\n",
    "1. $z_i=w_i\\cdot x_i$\n",
    "2. $o_i=H(z_i)$\n",
    "3. $L(y_i,o_i)=-y_i\\log o_i-(1-y_i)\\log(1-o_i)$\n",
    "4. $\\mathcal{R}(w)=\\sum_{i=1}^N L(y_i,H(w_i\\cdot x_i))$\n",
    "\n",
    "where we have shown the explicitly the dependance of $\\mathcal{R}(w)$ on the weights $w$ through the activation function. $\\mathcal{R}(w)$ is tipically minimized using gradient descents, meaning the perceptron adjust $w$ in the direction of the negative gradient of the risk function, in order to minimize it. This iterative process reduces the value of the error function until it converges on a value, usually a local minimum. The values of the weights $w$ are inizialized randomly as shown in the point 1 of the pseudo code above, and then are update according to the equation\n",
    "\n",
    "\\begin{align*}\n",
    "w_{n+1}=w_n-\\eta\\left .\\frac{\\partial\\mathcal{R}(w)}{\\partial w}\\right |_{w=w_n}\n",
    "\\end{align*}\n",
    "\n",
    "where $w_n$ are the values of $w$ after the $n$-th iteration, and $\\eta$ is the learning rate which controls the step size gradient descent takes each iteration, typically chosen to be a small value. After we update the weight we repeat the steps 0-4 and we reupdate  the weights and so on until we reach the number of __Epochs__ (iterations) we set a priori. \n",
    "\n",
    "The weight delta is calculate using the __delta rule__ that is a special case of __backpropagation__ that we explain in the introductionary notebook to Neural Networks. "
   ]
  },
  {
   "cell_type": "markdown",
   "metadata": {},
   "source": [
    "###  <a class=\"anchor\" id='s1.2'> Practical Tips </a> "
   ]
  },
  {
   "cell_type": "markdown",
   "metadata": {},
   "source": [
    "It was mentioned earlier that single-layer perceptrons are linear classifiers. That is, they can only learn linearly separable patterns. Linearly separable patterns are datasets or functions that can be separated by a linear boundary (a line or hyperplane). It has been shown, for example, that it was impossible for a perceptron to learn even simple non-linearly separable functions such as the [XOR function](https://en.wikipedia.org/wiki/XOR_gate#Analytical_representation). Many other (indeed, most other) functions are not linearly separable, so what is needed is an extension to the perceptron. The obvious extension is to add more layers of units so that there are nonlinear computations in between the input and output."
   ]
  },
  {
   "cell_type": "markdown",
   "metadata": {},
   "source": [
    "##  <a class=\"anchor\" id='s2'> Implementation in Python </a> "
   ]
  },
  {
   "cell_type": "markdown",
   "metadata": {},
   "source": [
    "The classe `Perceptron` of the module `sklearn.linear_model` are:\n",
    "\n",
    "`Perceptron(penalty=None, alpha=0.0001, fit_intercept=True, max_iter=1000, tol=0.001, shuffle=True, verbose=0, eta0=1.0, n_jobs=None, random_state=0, early_stopping=False, validation_fraction=0.1, n_iter_no_change=5, class_weight=None, warm_start=False)`\n",
    "\n",
    "\n",
    "Since it's a class is composed by __parameters__, __attributes__ and __method__. The official page where all the details can be found is [here](https://scikit-learn.org/stable/modules/generated/sklearn.linear_model.Perceptron.html#sklearn.linear_model.Perceptron)"
   ]
  },
  {
   "cell_type": "markdown",
   "metadata": {},
   "source": [
    "##  <a class=\"anchor\" id='s3'> Mini-Challenge </a> "
   ]
  },
  {
   "cell_type": "code",
   "execution_count": 7,
   "metadata": {},
   "outputs": [],
   "source": [
    "import pandas as pd\n",
    "import numpy as np\n",
    "import matplotlib\n",
    "import matplotlib.pyplot as plt\n",
    "import matplotlib.ticker as ticker\n",
    "import seaborn as sns\n",
    "\n",
    "from sklearn.metrics import confusion_matrix, accuracy_score\n",
    "from sklearn.linear_model import Perceptron \n",
    "from sklearn.model_selection import train_test_split\n",
    "\n",
    "import warnings\n",
    "warnings.filterwarnings(\"ignore\")"
   ]
  },
  {
   "cell_type": "code",
   "execution_count": 4,
   "metadata": {},
   "outputs": [
    {
     "data": {
      "text/plain": [
       "(303, 14)"
      ]
     },
     "execution_count": 4,
     "metadata": {},
     "output_type": "execute_result"
    }
   ],
   "source": [
    "df=pd.read_csv('data/heart.csv')\n",
    "df.shape"
   ]
  },
  {
   "cell_type": "code",
   "execution_count": 5,
   "metadata": {},
   "outputs": [
    {
     "data": {
      "text/html": [
       "<div>\n",
       "<style scoped>\n",
       "    .dataframe tbody tr th:only-of-type {\n",
       "        vertical-align: middle;\n",
       "    }\n",
       "\n",
       "    .dataframe tbody tr th {\n",
       "        vertical-align: top;\n",
       "    }\n",
       "\n",
       "    .dataframe thead th {\n",
       "        text-align: right;\n",
       "    }\n",
       "</style>\n",
       "<table border=\"1\" class=\"dataframe\">\n",
       "  <thead>\n",
       "    <tr style=\"text-align: right;\">\n",
       "      <th></th>\n",
       "      <th>age</th>\n",
       "      <th>sex</th>\n",
       "      <th>cp</th>\n",
       "      <th>trestbps</th>\n",
       "      <th>chol</th>\n",
       "      <th>fbs</th>\n",
       "      <th>restecg</th>\n",
       "      <th>thalach</th>\n",
       "      <th>exang</th>\n",
       "      <th>oldpeak</th>\n",
       "      <th>slope</th>\n",
       "      <th>ca</th>\n",
       "      <th>thal</th>\n",
       "      <th>target</th>\n",
       "    </tr>\n",
       "  </thead>\n",
       "  <tbody>\n",
       "    <tr>\n",
       "      <th>116</th>\n",
       "      <td>41</td>\n",
       "      <td>1</td>\n",
       "      <td>2</td>\n",
       "      <td>130</td>\n",
       "      <td>214</td>\n",
       "      <td>0</td>\n",
       "      <td>0</td>\n",
       "      <td>168</td>\n",
       "      <td>0</td>\n",
       "      <td>2.0</td>\n",
       "      <td>1</td>\n",
       "      <td>0</td>\n",
       "      <td>2</td>\n",
       "      <td>1</td>\n",
       "    </tr>\n",
       "    <tr>\n",
       "      <th>154</th>\n",
       "      <td>39</td>\n",
       "      <td>0</td>\n",
       "      <td>2</td>\n",
       "      <td>138</td>\n",
       "      <td>220</td>\n",
       "      <td>0</td>\n",
       "      <td>1</td>\n",
       "      <td>152</td>\n",
       "      <td>0</td>\n",
       "      <td>0.0</td>\n",
       "      <td>1</td>\n",
       "      <td>0</td>\n",
       "      <td>2</td>\n",
       "      <td>1</td>\n",
       "    </tr>\n",
       "    <tr>\n",
       "      <th>78</th>\n",
       "      <td>52</td>\n",
       "      <td>1</td>\n",
       "      <td>1</td>\n",
       "      <td>128</td>\n",
       "      <td>205</td>\n",
       "      <td>1</td>\n",
       "      <td>1</td>\n",
       "      <td>184</td>\n",
       "      <td>0</td>\n",
       "      <td>0.0</td>\n",
       "      <td>2</td>\n",
       "      <td>0</td>\n",
       "      <td>2</td>\n",
       "      <td>1</td>\n",
       "    </tr>\n",
       "    <tr>\n",
       "      <th>301</th>\n",
       "      <td>57</td>\n",
       "      <td>1</td>\n",
       "      <td>0</td>\n",
       "      <td>130</td>\n",
       "      <td>131</td>\n",
       "      <td>0</td>\n",
       "      <td>1</td>\n",
       "      <td>115</td>\n",
       "      <td>1</td>\n",
       "      <td>1.2</td>\n",
       "      <td>1</td>\n",
       "      <td>1</td>\n",
       "      <td>3</td>\n",
       "      <td>0</td>\n",
       "    </tr>\n",
       "    <tr>\n",
       "      <th>61</th>\n",
       "      <td>54</td>\n",
       "      <td>1</td>\n",
       "      <td>1</td>\n",
       "      <td>108</td>\n",
       "      <td>309</td>\n",
       "      <td>0</td>\n",
       "      <td>1</td>\n",
       "      <td>156</td>\n",
       "      <td>0</td>\n",
       "      <td>0.0</td>\n",
       "      <td>2</td>\n",
       "      <td>0</td>\n",
       "      <td>3</td>\n",
       "      <td>1</td>\n",
       "    </tr>\n",
       "  </tbody>\n",
       "</table>\n",
       "</div>"
      ],
      "text/plain": [
       "     age  sex  cp  trestbps  chol  fbs  restecg  thalach  exang  oldpeak  \\\n",
       "116   41    1   2       130   214    0        0      168      0      2.0   \n",
       "154   39    0   2       138   220    0        1      152      0      0.0   \n",
       "78    52    1   1       128   205    1        1      184      0      0.0   \n",
       "301   57    1   0       130   131    0        1      115      1      1.2   \n",
       "61    54    1   1       108   309    0        1      156      0      0.0   \n",
       "\n",
       "     slope  ca  thal  target  \n",
       "116      1   0     2       1  \n",
       "154      1   0     2       1  \n",
       "78       2   0     2       1  \n",
       "301      1   1     3       0  \n",
       "61       2   0     3       1  "
      ]
     },
     "execution_count": 5,
     "metadata": {},
     "output_type": "execute_result"
    }
   ],
   "source": [
    "df.sample(n=5)"
   ]
  },
  {
   "cell_type": "code",
   "execution_count": 8,
   "metadata": {},
   "outputs": [],
   "source": [
    "X_train, X_test, y_train, y_test = train_test_split(\n",
    "    df.drop('target',axis=1), df.target, shuffle=True, train_size=0.8, random_state=42)"
   ]
  },
  {
   "cell_type": "code",
   "execution_count": 10,
   "metadata": {},
   "outputs": [
    {
     "data": {
      "text/plain": [
       "<matplotlib.axes._subplots.AxesSubplot at 0x1a21334f98>"
      ]
     },
     "execution_count": 10,
     "metadata": {},
     "output_type": "execute_result"
    },
    {
     "data": {
      "image/png": "[encoded data removed]",
      "text/plain": [
       "<Figure size 432x288 with 2 Axes>"
      ]
     },
     "metadata": {
      "needs_background": "light"
     },
     "output_type": "display_data"
    }
   ],
   "source": [
    "model=Perceptron()\n",
    "model.fit(X_train,y_train)\n",
    "\n",
    "sns.heatmap(confusion_matrix(y_test, model.predict(X_test)), annot=True)"
   ]
  },
  {
   "cell_type": "code",
   "execution_count": 11,
   "metadata": {},
   "outputs": [
    {
     "name": "stdout",
     "output_type": "stream",
     "text": [
      "The accuracy of the SVC is 0.6721311475409836\n"
     ]
    }
   ],
   "source": [
    "print('The accuracy of the SVC is',accuracy_score(y_test, model.predict(X_test)))"
   ]
  }
 ],
 "metadata": {
  "kernelspec": {
   "display_name": "Python 3",
   "language": "python",
   "name": "python3"
  },
  "language_info": {
   "codemirror_mode": {
    "name": "ipython",
    "version": 3
   },
   "file_extension": ".py",
   "mimetype": "text/x-python",
   "name": "python",
   "nbconvert_exporter": "python",
   "pygments_lexer": "ipython3",
   "version": "3.7.3"
  }
 },
 "nbformat": 4,
 "nbformat_minor": 2
}
